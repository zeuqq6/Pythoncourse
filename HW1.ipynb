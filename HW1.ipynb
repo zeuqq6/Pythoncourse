{
 "cells": [
  {
   "cell_type": "code",
   "execution_count": 1,
   "metadata": {},
   "outputs": [
    {
     "name": "stdin",
     "output_type": "stream",
     "text": [
      "Please type your name :  zehra\n",
      "Please type your age :  3\n",
      "Please type your major :  education\n",
      "Please type years of your experience :  4\n",
      "Please write your current work place :  UT Austin\n"
     ]
    }
   ],
   "source": [
    "value1 = input(\"Please type your name : \") \n",
    "value2 = int( input(\"Please type your age : \") )\n",
    "value3 = input(\"Please type your major : \") \n",
    "value4 = int(input(\"Please type years of your experience : \"))\n",
    "value5 = input(\"Please write your current work place : \")\n"
   ]
  },
  {
   "cell_type": "code",
   "execution_count": 3,
   "metadata": {},
   "outputs": [
    {
     "name": "stdout",
     "output_type": "stream",
     "text": [
      "<class 'str'>\n",
      "<class 'int'>\n",
      "<class 'str'>\n",
      "<class 'int'>\n",
      "<class 'str'>\n"
     ]
    }
   ],
   "source": [
    "print(type(value1))\n",
    "print(type(value2))\n",
    "print(type(value3))\n",
    "print(type(value4))\n",
    "print(type(value5))\n"
   ]
  },
  {
   "cell_type": "code",
   "execution_count": null,
   "metadata": {},
   "outputs": [],
   "source": []
  }
 ],
 "metadata": {
  "kernelspec": {
   "display_name": "Python 3",
   "language": "python",
   "name": "python3"
  },
  "language_info": {
   "codemirror_mode": {
    "name": "ipython",
    "version": 3
   },
   "file_extension": ".py",
   "mimetype": "text/x-python",
   "name": "python",
   "nbconvert_exporter": "python",
   "pygments_lexer": "ipython3",
   "version": "3.8.5"
  }
 },
 "nbformat": 4,
 "nbformat_minor": 4
}
