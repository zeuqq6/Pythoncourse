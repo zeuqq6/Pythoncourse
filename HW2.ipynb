{
 "cells": [
  {
   "cell_type": "code",
   "execution_count": 6,
   "metadata": {},
   "outputs": [
    {
     "name": "stdin",
     "output_type": "stream",
     "text": [
      "Please type your first name :  z\n",
      "Please type your last name :  e\n",
      "Please type your first age :  1\n",
      "Please type your birthyear :  3\n"
     ]
    },
    {
     "name": "stdout",
     "output_type": "stream",
     "text": [
      "\n",
      "FirstName : z\n",
      "LastName : e\n",
      "Age : 1\n",
      "Birthyear : 3\n",
      "You can't go out because it's too dangerous\n"
     ]
    }
   ],
   "source": [
    "first_name = input(\"Please type your first name : \")\n",
    "last_name =  input(\"Please type your last name : \")\n",
    "age   = int( input(\"Please type your first age : \") )\n",
    "birth_year = int(input(\"Please type your birthyear : \") )\n",
    "\n",
    "user_info = [first_name, last_name, age, birth_year]\n",
    "labels  = [\"FirstName\", \"LastName\", \"Age\", \"Birthyear\"]\n",
    "\n",
    "print() \n",
    "\n",
    "for i in range(len(user_info)):\n",
    "    print(labels[i], \":\", user_info[i])\n",
    "\n",
    "    \n",
    "if int(user_info[2]) < 18:\n",
    "    print(\"You can't go out because it's too dangerous\")\n",
    "else:\n",
    "    print(\"You can go out to the street\")\n",
    "\n"
   ]
  },
  {
   "cell_type": "code",
   "execution_count": null,
   "metadata": {},
   "outputs": [],
   "source": []
  }
 ],
 "metadata": {
  "kernelspec": {
   "display_name": "Python 3",
   "language": "python",
   "name": "python3"
  },
  "language_info": {
   "codemirror_mode": {
    "name": "ipython",
    "version": 3
   },
   "file_extension": ".py",
   "mimetype": "text/x-python",
   "name": "python",
   "nbconvert_exporter": "python",
   "pygments_lexer": "ipython3",
   "version": "3.8.5"
  }
 },
 "nbformat": 4,
 "nbformat_minor": 4
}
