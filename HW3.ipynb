{
 "cells": [
  {
   "cell_type": "code",
   "execution_count": 14,
   "metadata": {},
   "outputs": [
    {
     "name": "stdin",
     "output_type": "stream",
     "text": [
      "Please enter your name: z\n"
     ]
    },
    {
     "name": "stdout",
     "output_type": "stream",
     "text": [
      "Hello, z get ready\n",
      " \n",
      "Please start to guess\n",
      "_\n",
      "_\n",
      "_\n",
      "_\n",
      "_\n"
     ]
    },
    {
     "name": "stdin",
     "output_type": "stream",
     "text": [
      "guess a character: e\n"
     ]
    },
    {
     "name": "stdout",
     "output_type": "stream",
     "text": [
      "e\n",
      "_\n",
      "_\n",
      "_\n",
      "_\n"
     ]
    },
    {
     "name": "stdin",
     "output_type": "stream",
     "text": [
      "guess a character: a\n"
     ]
    },
    {
     "name": "stdout",
     "output_type": "stream",
     "text": [
      "e\n",
      "a\n",
      "_\n",
      "_\n",
      "_\n"
     ]
    },
    {
     "name": "stdin",
     "output_type": "stream",
     "text": [
      "guess a character: r\n"
     ]
    },
    {
     "name": "stdout",
     "output_type": "stream",
     "text": [
      "e\n",
      "a\n",
      "r\n",
      "_\n",
      "_\n"
     ]
    },
    {
     "name": "stdin",
     "output_type": "stream",
     "text": [
      "guess a character: t\n"
     ]
    },
    {
     "name": "stdout",
     "output_type": "stream",
     "text": [
      "e\n",
      "a\n",
      "r\n",
      "t\n",
      "_\n"
     ]
    },
    {
     "name": "stdin",
     "output_type": "stream",
     "text": [
      "guess a character: y\n"
     ]
    },
    {
     "name": "stdout",
     "output_type": "stream",
     "text": [
      "Wrong\n",
      "You have 9 more guesses\n",
      "e\n",
      "a\n",
      "r\n",
      "t\n",
      "_\n"
     ]
    },
    {
     "name": "stdin",
     "output_type": "stream",
     "text": [
      "guess a character: u\n"
     ]
    },
    {
     "name": "stdout",
     "output_type": "stream",
     "text": [
      "Wrong\n",
      "You have 8 more guesses\n",
      "e\n",
      "a\n",
      "r\n",
      "t\n",
      "_\n"
     ]
    },
    {
     "name": "stdin",
     "output_type": "stream",
     "text": [
      "guess a character: t\n"
     ]
    },
    {
     "name": "stdout",
     "output_type": "stream",
     "text": [
      "e\n",
      "a\n",
      "r\n",
      "t\n",
      "_\n"
     ]
    },
    {
     "name": "stdin",
     "output_type": "stream",
     "text": [
      "guess a character: h\n"
     ]
    },
    {
     "name": "stdout",
     "output_type": "stream",
     "text": [
      "e\n",
      "a\n",
      "r\n",
      "t\n",
      "h\n",
      "You won\n"
     ]
    }
   ],
   "source": [
    "import time\n",
    "name = input (\"Please enter your name:\")\n",
    "print (\"Hello, \" + name, \"get ready\")\n",
    "print (\" \")\n",
    "time.sleep(1)\n",
    "print (\"Please start to guess\")\n",
    "time.sleep(0.5)\n",
    "\n",
    "#Target word\n",
    "word = \"earth\"\n",
    "\n",
    "guesses = ''\n",
    "turns = 10\n",
    "while turns > 0:         \n",
    "    failed = 0               \n",
    "    for char in word:      \n",
    "        if char in guesses:    \n",
    "            print (char),    \n",
    "\n",
    "        else:\n",
    "    \n",
    "            print (\"_\"),     \n",
    "       \n",
    "            failed += 1    \n",
    "\n",
    "    if failed == 0:        \n",
    "        print (\"You won, t\")  \n",
    "\n",
    "        break              \n",
    "\n",
    "    print\n",
    "\n",
    "    guess = input(\"guess a character:\") \n",
    "    guesses += guess                    \n",
    "    if guess not in word:  \n",
    "        turns -= 1        \n",
    "        print (\"Wrong\")    \n",
    "        print (\"You have\", + turns, 'more guesses') \n",
    "        if turns == 0:           \n",
    "            print (\"You Lose\")  "
   ]
  },
  {
   "cell_type": "code",
   "execution_count": null,
   "metadata": {},
   "outputs": [],
   "source": []
  }
 ],
 "metadata": {
  "kernelspec": {
   "display_name": "Python 3",
   "language": "python",
   "name": "python3"
  },
  "language_info": {
   "codemirror_mode": {
    "name": "ipython",
    "version": 3
   },
   "file_extension": ".py",
   "mimetype": "text/x-python",
   "name": "python",
   "nbconvert_exporter": "python",
   "pygments_lexer": "ipython3",
   "version": "3.8.5"
  }
 },
 "nbformat": 4,
 "nbformat_minor": 4
}
